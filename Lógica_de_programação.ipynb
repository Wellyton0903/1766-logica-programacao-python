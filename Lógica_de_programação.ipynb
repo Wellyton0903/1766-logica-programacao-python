{
  "nbformat": 4,
  "nbformat_minor": 0,
  "metadata": {
    "colab": {
      "name": "Lógica de programação.ipynb",
      "provenance": [],
      "authorship_tag": "ABX9TyNbEdOKL+s/kqF4rCdP+PHh",
      "include_colab_link": true
    },
    "kernelspec": {
      "name": "python3",
      "display_name": "Python 3"
    },
    "language_info": {
      "name": "python"
    }
  },
  "cells": [
    {
      "cell_type": "markdown",
      "metadata": {
        "id": "view-in-github",
        "colab_type": "text"
      },
      "source": [
        "<a href=\"https://colab.research.google.com/github/Wellyton0903/1766-logica-programacao-python/blob/aula_1/L%C3%B3gica_de_programa%C3%A7%C3%A3o.ipynb\" target=\"_parent\"><img src=\"https://colab.research.google.com/assets/colab-badge.svg\" alt=\"Open In Colab\"/></a>"
      ]
    },
    {
      "cell_type": "code",
      "execution_count": null,
      "metadata": {
        "id": "rb7ZjtNp4993"
      },
      "outputs": [],
      "source": [
        ""
      ]
    },
    {
      "cell_type": "markdown",
      "source": [
        "Lógica de programação com Python"
      ],
      "metadata": {
        "id": "_fl7_Vg65VcB"
      }
    },
    {
      "cell_type": "code",
      "source": [
        "1+1   "
      ],
      "metadata": {
        "colab": {
          "base_uri": "https://localhost:8080/"
        },
        "id": "aIo9KeTg5ZSA",
        "outputId": "018364f7-0b9f-4efa-9808-7c7ded0e002b"
      },
      "execution_count": 1,
      "outputs": [
        {
          "output_type": "execute_result",
          "data": {
            "text/plain": [
              "2"
            ]
          },
          "metadata": {},
          "execution_count": 1
        }
      ]
    },
    {
      "cell_type": "code",
      "source": [
        "\"Wellyton\""
      ],
      "metadata": {
        "colab": {
          "base_uri": "https://localhost:8080/",
          "height": 35
        },
        "id": "yZDO_Lcc5lh2",
        "outputId": "31117257-7018-4788-b881-5fc719bffd2b"
      },
      "execution_count": 3,
      "outputs": [
        {
          "output_type": "execute_result",
          "data": {
            "text/plain": [
              "'Wellyton'"
            ],
            "application/vnd.google.colaboratory.intrinsic+json": {
              "type": "string"
            }
          },
          "metadata": {},
          "execution_count": 3
        }
      ]
    },
    {
      "cell_type": "code",
      "source": [
        "nome = 'Wellyton'"
      ],
      "metadata": {
        "id": "4klW8Rab5oUz"
      },
      "execution_count": 9,
      "outputs": []
    },
    {
      "cell_type": "code",
      "source": [
        "nome"
      ],
      "metadata": {
        "colab": {
          "base_uri": "https://localhost:8080/",
          "height": 35
        },
        "id": "ryGt39so6Kcv",
        "outputId": "d1d5ef92-cfd0-4eed-aaed-3ebd2520e7dd"
      },
      "execution_count": 10,
      "outputs": [
        {
          "output_type": "execute_result",
          "data": {
            "text/plain": [
              "'Wellyton'"
            ],
            "application/vnd.google.colaboratory.intrinsic+json": {
              "type": "string"
            }
          },
          "metadata": {},
          "execution_count": 10
        }
      ]
    },
    {
      "cell_type": "code",
      "source": [
        "idade = 33"
      ],
      "metadata": {
        "id": "nFIFnyt96MBI"
      },
      "execution_count": 11,
      "outputs": []
    },
    {
      "cell_type": "code",
      "source": [
        "idade"
      ],
      "metadata": {
        "colab": {
          "base_uri": "https://localhost:8080/"
        },
        "id": "SMMpikLo6ehO",
        "outputId": "1a9995df-0cd8-41d7-b2d1-8c2d02881d40"
      },
      "execution_count": 12,
      "outputs": [
        {
          "output_type": "execute_result",
          "data": {
            "text/plain": [
              "33"
            ]
          },
          "metadata": {},
          "execution_count": 12
        }
      ]
    },
    {
      "cell_type": "code",
      "source": [
        "print ('nome é Guilherme e sua idade é 28 anos')"
      ],
      "metadata": {
        "colab": {
          "base_uri": "https://localhost:8080/"
        },
        "id": "YOozOc-c6f7O",
        "outputId": "c4d8fd44-5c57-4313-9738-035b7a2f23ea"
      },
      "execution_count": 15,
      "outputs": [
        {
          "output_type": "stream",
          "name": "stdout",
          "text": [
            "nome é Guilherme e sua idade é 28 anos\n"
          ]
        }
      ]
    },
    {
      "cell_type": "code",
      "source": [
        "print(f'O nome é {nome} e sua idade é {idade}')"
      ],
      "metadata": {
        "colab": {
          "base_uri": "https://localhost:8080/"
        },
        "id": "7QhEAWr_6kby",
        "outputId": "6bad5409-bb6c-469b-a285-de705f89ac0f"
      },
      "execution_count": 17,
      "outputs": [
        {
          "output_type": "stream",
          "name": "stdout",
          "text": [
            "O nome é Wellyton e sua idade é 33\n"
          ]
        }
      ]
    },
    {
      "cell_type": "code",
      "source": [
        "idade = 34"
      ],
      "metadata": {
        "id": "g2a7B4xT7Qus"
      },
      "execution_count": 18,
      "outputs": []
    },
    {
      "cell_type": "code",
      "source": [
        "print(f'O nome é {nome} e sua idade é {idade}')"
      ],
      "metadata": {
        "colab": {
          "base_uri": "https://localhost:8080/"
        },
        "id": "PecMgKLI7amj",
        "outputId": "4e474121-a804-4764-adc7-12bc0ee1e629"
      },
      "execution_count": 19,
      "outputs": [
        {
          "output_type": "stream",
          "name": "stdout",
          "text": [
            "O nome é Wellyton e sua idade é 34\n"
          ]
        }
      ]
    },
    {
      "cell_type": "code",
      "source": [
        ""
      ],
      "metadata": {
        "id": "EngfYugE7cB4"
      },
      "execution_count": null,
      "outputs": []
    },
    {
      "cell_type": "markdown",
      "source": [
        "# **Criando minha primeira função**\n"
      ],
      "metadata": {
        "id": "nHMvwuGh7hm7"
      }
    },
    {
      "cell_type": "code",
      "source": [
        " def saudacao():\n",
        "  nome = input('Qual o seu nome? ')\n",
        "  print(f'Olá {nome}')"
      ],
      "metadata": {
        "id": "VObPj9mu7ovq"
      },
      "execution_count": 40,
      "outputs": []
    },
    {
      "cell_type": "code",
      "source": [
        "saudacao()"
      ],
      "metadata": {
        "colab": {
          "base_uri": "https://localhost:8080/"
        },
        "id": "BEYOmpFM72lT",
        "outputId": "f65ae91e-7dd7-46c0-d22b-580028147790"
      },
      "execution_count": 43,
      "outputs": [
        {
          "output_type": "stream",
          "name": "stdout",
          "text": [
            "Qual o seu nome? Stephany\n",
            "Olá Stephany\n"
          ]
        }
      ]
    },
    {
      "cell_type": "code",
      "source": [
        "print(\"Hello World\")"
      ],
      "metadata": {
        "colab": {
          "base_uri": "https://localhost:8080/"
        },
        "id": "elPOZffA8vxR",
        "outputId": "7eea591a-e142-4c1e-8d64-a2f10fd103ec"
      },
      "execution_count": 42,
      "outputs": [
        {
          "output_type": "stream",
          "name": "stdout",
          "text": [
            "Hello World\n"
          ]
        }
      ]
    },
    {
      "cell_type": "code",
      "source": [
        "def saudacao():\n",
        "  nome = input('Qual é o seu nome? ')\n",
        "  print(f'Olá {nome}') \n"
      ],
      "metadata": {
        "id": "8qtV7OKB_BdL"
      },
      "execution_count": 46,
      "outputs": []
    },
    {
      "cell_type": "code",
      "source": [
        "saudacao()"
      ],
      "metadata": {
        "colab": {
          "base_uri": "https://localhost:8080/"
        },
        "id": "uRn0wwxSAlbY",
        "outputId": "4cdbc213-414e-47e5-b8ed-83468b5826b6"
      },
      "execution_count": 47,
      "outputs": [
        {
          "output_type": "stream",
          "name": "stdout",
          "text": [
            "Qual é o seu nome? Wellyton\n",
            "Olá Wellyton\n"
          ]
        }
      ]
    },
    {
      "cell_type": "code",
      "source": [
        "def nome_completo():\n",
        " primeiro_nome = input('Qual seu primeiro nome? ')\n",
        " sobrenome = input('Qual seu sobrenome? ')\n",
        " nome_inteiro = primeiro_nome + ' ' + sobrenome\n",
        " print(nome_inteiro)\n",
        "\n",
        "nome_completo()"
      ],
      "metadata": {
        "colab": {
          "base_uri": "https://localhost:8080/"
        },
        "id": "QCQj9hxrAutF",
        "outputId": "f05e3e6e-893f-4fe2-d344-0e2f3344e8cc"
      },
      "execution_count": 48,
      "outputs": [
        {
          "output_type": "stream",
          "name": "stdout",
          "text": [
            "Qual seu primeiro nome? Wellyton\n",
            "Qual seu sobrenome? Vaz Silva\n",
            "Wellyton Vaz Silva\n"
          ]
        }
      ]
    },
    {
      "cell_type": "code",
      "source": [
        "Python é uma linguagem de programação de alto nível...\n"
      ],
      "metadata": {
        "id": "gVPLUhyLBBjp"
      },
      "execution_count": null,
      "outputs": []
    }
  ]
}